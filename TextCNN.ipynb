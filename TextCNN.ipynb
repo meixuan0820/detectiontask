{
 "cells": [
  {
   "cell_type": "code",
   "execution_count": 2,
   "id": "cb141e70",
   "metadata": {},
   "outputs": [
    {
     "name": "stdout",
     "output_type": "stream",
     "text": [
      "TensorFlow ver: 2.10.1\n",
      "GPU able: [PhysicalDevice(name='/physical_device:GPU:0', device_type='GPU')]\n"
     ]
    }
   ],
   "source": [
    "import tensorflow as tf\n",
    "print(f\"TensorFlow ver: {tf.__version__}\")\n",
    "print(f\"GPU able: {tf.config.list_physical_devices('GPU')}\")"
   ]
  },
  {
   "cell_type": "code",
   "execution_count": 3,
   "id": "962dcfd3",
   "metadata": {},
   "outputs": [],
   "source": [
    "import os, json, math, random\n",
    "import numpy as np\n",
    "import pandas as pd"
   ]
  },
  {
   "cell_type": "code",
   "execution_count": 4,
   "id": "39e09b0e",
   "metadata": {},
   "outputs": [],
   "source": [
    "SEED = 42\n",
    "np.random.seed(SEED)\n",
    "random.seed(SEED)"
   ]
  },
  {
   "cell_type": "code",
   "execution_count": 5,
   "id": "8d449562",
   "metadata": {},
   "outputs": [
    {
     "name": "stdout",
     "output_type": "stream",
     "text": [
      "(8161, 100, 768) (8161, 100, 768)\n"
     ]
    }
   ],
   "source": [
    "X_ai = np.load(\"train_ai.npy\")\n",
    "X_human = np.load(\"train_human.npy\")\n",
    "print(X_ai.shape, X_human.shape)"
   ]
  },
  {
   "cell_type": "code",
   "execution_count": 6,
   "id": "6c98b98b",
   "metadata": {},
   "outputs": [
    {
     "name": "stdout",
     "output_type": "stream",
     "text": [
      "(220, 100, 768) (220,) (220,) 20\n"
     ]
    }
   ],
   "source": [
    "df_val = pd.read_json(\"validation.jsonl\", lines=True)\n",
    "\n",
    "X_val_list, y_val_list, val_id_list = [], [], []\n",
    "for row in df_val.itertuples():\n",
    "    arr = np.array(row.features, dtype=np.float32)   # (N_i,100,768)\n",
    "    for sub in arr:  # sub is slice for each id: (100,768)\n",
    "        X_val_list.append(sub)\n",
    "        y_val_list.append(row.label)\n",
    "        val_id_list.append(row.id)\n",
    "\n",
    "X_val = np.stack(X_val_list)\n",
    "y_val = np.array(y_val_list)\n",
    "val_ids = np.array(val_id_list)\n",
    "\n",
    "print(X_val.shape, y_val.shape, val_ids.shape, len(np.unique(val_ids)))"
   ]
  },
  {
   "cell_type": "code",
   "execution_count": 7,
   "id": "abbd5453",
   "metadata": {},
   "outputs": [
    {
     "name": "stdout",
     "output_type": "stream",
     "text": [
      "(1686, 100, 768) (1686,) 180\n"
     ]
    }
   ],
   "source": [
    "df_test = pd.read_json(\"test_features.jsonl\", lines=True)\n",
    "\n",
    "X_test_list, test_id_list = [], []\n",
    "for row in df_test.itertuples():\n",
    "    arr = np.array(row.features, dtype=np.float32)\n",
    "    for sub in arr:\n",
    "        X_test_list.append(sub)\n",
    "        test_id_list.append(row.id)\n",
    "\n",
    "X_test = np.stack(X_test_list)\n",
    "test_ids = np.array(test_id_list)\n",
    "\n",
    "print(X_test.shape, test_ids.shape, len(np.unique(test_ids)))"
   ]
  },
  {
   "cell_type": "code",
   "execution_count": 8,
   "id": "778df681",
   "metadata": {},
   "outputs": [
    {
     "name": "stdout",
     "output_type": "stream",
     "text": [
      "(16322, 100, 768) (16322,)\n"
     ]
    }
   ],
   "source": [
    "from sklearn.utils import shuffle\n",
    "\n",
    "y_ai = np.ones(len(X_ai),  dtype=np.int32)\n",
    "y_human = np.zeros(len(X_human), dtype=np.int32)\n",
    "\n",
    "X_train = np.concatenate([X_ai, X_human], axis=0)\n",
    "y_train = np.concatenate([y_ai, y_human], axis=0)\n",
    "\n",
    "X_train, y_train = shuffle(X_train, y_train, random_state=SEED)\n",
    "\n",
    "print(X_train.shape, y_train.shape)"
   ]
  },
  {
   "cell_type": "code",
   "execution_count": 9,
   "id": "fa838d63",
   "metadata": {},
   "outputs": [
    {
     "name": "stdout",
     "output_type": "stream",
     "text": [
      "Model: \"model\"\n",
      "__________________________________________________________________________________________________\n",
      " Layer (type)                   Output Shape         Param #     Connected to                     \n",
      "==================================================================================================\n",
      " input_1 (InputLayer)           [(None, 100, 768)]   0           []                               \n",
      "                                                                                                  \n",
      " masking (Masking)              (None, 100, 768)     0           ['input_1[0][0]']                \n",
      "                                                                                                  \n",
      " bidirectional (Bidirectional)  (None, 100, 128)     320256      ['masking[0][0]']                \n",
      "                                                                                                  \n",
      " attention (Attention)          (None, 100, 128)     0           ['bidirectional[0][0]',          \n",
      "                                                                  'bidirectional[0][0]']          \n",
      "                                                                                                  \n",
      " global_average_pooling1d (Glob  (None, 128)         0           ['attention[0][0]']              \n",
      " alAveragePooling1D)                                                                              \n",
      "                                                                                                  \n",
      " dense (Dense)                  (None, 64)           8256        ['global_average_pooling1d[0][0]'\n",
      "                                                                 ]                                \n",
      "                                                                                                  \n",
      " dropout (Dropout)              (None, 64)           0           ['dense[0][0]']                  \n",
      "                                                                                                  \n",
      " dense_1 (Dense)                (None, 1)            65          ['dropout[0][0]']                \n",
      "                                                                                                  \n",
      "==================================================================================================\n",
      "Total params: 328,577\n",
      "Trainable params: 328,577\n",
      "Non-trainable params: 0\n",
      "__________________________________________________________________________________________________\n"
     ]
    }
   ],
   "source": [
    "inp = tf.keras.Input(shape=(100,768))\n",
    "x = tf.keras.layers.Masking(mask_value=0.0)(inp)\n",
    "x = tf.keras.layers.Bidirectional(\n",
    "        tf.keras.layers.GRU(64, return_sequences=True, dropout=0.2, recurrent_dropout=0.0)\n",
    ")(x)\n",
    "x = tf.keras.layers.Attention()([x, x])\n",
    "x = tf.keras.layers.GlobalAveragePooling1D()(x)\n",
    "\n",
    "x = tf.keras.layers.Dense(64, activation=\"relu\")(x)\n",
    "x = tf.keras.layers.Dropout(0.2)(x)\n",
    "out = tf.keras.layers.Dense(1, activation=\"sigmoid\", dtype=\"float32\")(x)\n",
    "bigru_light = tf.keras.Model(inp, out)\n",
    "bigru_light.compile(\n",
    "    optimizer=tf.keras.optimizers.Adam(1e-3),\n",
    "    loss=\"binary_crossentropy\",\n",
    "    metrics=[tf.keras.metrics.AUC(curve=\"ROC\", name=\"auroc\")]\n",
    ")\n",
    "\n",
    "bigru_light.summary()"
   ]
  },
  {
   "cell_type": "code",
   "execution_count": 10,
   "id": "176220b2",
   "metadata": {},
   "outputs": [],
   "source": [
    "es = tf.keras.callbacks.EarlyStopping(\n",
    "    monitor=\"val_auroc\", mode=\"max\", patience=2,\n",
    "    restore_best_weights=True, verbose=1\n",
    ")"
   ]
  },
  {
   "cell_type": "code",
   "execution_count": 11,
   "id": "35105ed6",
   "metadata": {},
   "outputs": [
    {
     "name": "stdout",
     "output_type": "stream",
     "text": [
      "Epoch 1/5\n",
      "919/919 [==============================] - 181s 192ms/step - loss: 0.3750 - auroc: 0.9130 - val_loss: 0.3050 - val_auroc: 0.9547\n",
      "Epoch 2/5\n",
      "919/919 [==============================] - 242s 264ms/step - loss: 0.3087 - auroc: 0.9417 - val_loss: 0.2930 - val_auroc: 0.9582\n",
      "Epoch 3/5\n",
      "919/919 [==============================] - 194s 211ms/step - loss: 0.2833 - auroc: 0.9508 - val_loss: 0.2475 - val_auroc: 0.9634\n",
      "Epoch 4/5\n",
      "919/919 [==============================] - 181s 196ms/step - loss: 0.2721 - auroc: 0.9546 - val_loss: 0.2490 - val_auroc: 0.9636\n",
      "Epoch 5/5\n",
      "919/919 [==============================] - 167s 182ms/step - loss: 0.2659 - auroc: 0.9569 - val_loss: 0.2670 - val_auroc: 0.9628\n"
     ]
    }
   ],
   "source": [
    "with tf.device(\"/CPU:0\"):\n",
    "    history = bigru_light.fit(\n",
    "        X_train, y_train,\n",
    "        validation_split=0.1,\n",
    "        epochs=5,\n",
    "        batch_size=16,\n",
    "        callbacks=[es],\n",
    "        verbose=1\n",
    "    )"
   ]
  },
  {
   "cell_type": "code",
   "execution_count": 21,
   "id": "1b8aa2cf",
   "metadata": {},
   "outputs": [
    {
     "data": {
      "image/png": "[encoded data removed]",
      "text/plain": [
       "<Figure size 640x480 with 1 Axes>"
      ]
     },
     "metadata": {},
     "output_type": "display_data"
    },
    {
     "data": {
      "image/png": "[encoded data removed]",
      "text/plain": [
       "<Figure size 640x480 with 1 Axes>"
      ]
     },
     "metadata": {},
     "output_type": "display_data"
    }
   ],
   "source": [
    "import matplotlib.pyplot as plt\n",
    "\n",
    "plt.plot(history.history[\"loss\"], label=\"train loss\")\n",
    "plt.plot(history.history[\"val_loss\"], label=\"val loss\")\n",
    "plt.legend(); plt.title(\"Loss Curve\"); plt.show()\n",
    "\n",
    "plt.plot(history.history[\"auroc\"], label=\"train AUROC\")\n",
    "plt.plot(history.history[\"val_auroc\"], label=\"val AUROC\")\n",
    "plt.legend(); plt.title(\"AUROC Curve\"); plt.show()"
   ]
  },
  {
   "cell_type": "code",
   "execution_count": 32,
   "id": "b3c970db",
   "metadata": {},
   "outputs": [
    {
     "name": "stdout",
     "output_type": "stream",
     "text": [
      "7/7 [==============================] - 0s 42ms/step\n",
      "Validation AUROC: 0.7615087365591399\n"
     ]
    }
   ],
   "source": [
    "from sklearn.metrics import roc_auc_score, classification_report\n",
    "\n",
    "y_val_prob = bigru_light.predict(X_val).ravel()\n",
    "val_auc = roc_auc_score(y_val, y_val_prob)\n",
    "print(\"Validation AUROC:\", val_auc)"
   ]
  },
  {
   "cell_type": "code",
   "execution_count": 33,
   "id": "35130cab",
   "metadata": {},
   "outputs": [
    {
     "name": "stdout",
     "output_type": "stream",
     "text": [
      "              precision    recall  f1-score   support\n",
      "\n",
      "           0      0.681     0.879     0.768       124\n",
      "           1      0.750     0.469     0.577        96\n",
      "\n",
      "    accuracy                          0.700       220\n",
      "   macro avg      0.716     0.674     0.672       220\n",
      "weighted avg      0.711     0.700     0.684       220\n",
      "\n"
     ]
    }
   ],
   "source": [
    "y_val_pred = (y_val_prob > 0.5).astype(int)\n",
    "print(classification_report(y_val, y_val_pred, digits=3))"
   ]
  },
  {
   "cell_type": "code",
   "execution_count": 15,
   "id": "ee6a9023",
   "metadata": {},
   "outputs": [],
   "source": [
    "def eval_doc_level(probs, labels, ids, agg=\"mean\"):\n",
    "    doc_probs = {}\n",
    "    doc_labels = {}\n",
    "    for p, y, i in zip(probs, labels, ids):\n",
    "        doc_probs.setdefault(i, []).append(p)\n",
    "        doc_labels[i] = y\n",
    "    # 聚合\n",
    "    if agg == \"mean\":\n",
    "        doc_probs = {i: np.mean(v) for i,v in doc_probs.items()}\n",
    "    elif agg == \"max\":\n",
    "        doc_probs = {i: np.max(v) for i,v in doc_probs.items()}\n",
    "    elif agg == \"vote\":\n",
    "        doc_probs = {i: (np.mean(v) > 0.5).astype(float) for i,v in doc_probs.items()}\n",
    "\n",
    "    probs = np.array(list(doc_probs.values()))\n",
    "    labels = np.array(list(doc_labels.values()))\n",
    "    auc = roc_auc_score(labels, probs)\n",
    "    return auc, probs, labels"
   ]
  },
  {
   "cell_type": "code",
   "execution_count": 34,
   "id": "01e70221",
   "metadata": {},
   "outputs": [
    {
     "name": "stdout",
     "output_type": "stream",
     "text": [
      "Validation AUROC (doc-level): 0.9200000000000002\n"
     ]
    }
   ],
   "source": [
    "val_auc_doc, doc_probs, doc_labels = eval_doc_level(y_val_prob, y_val, val_ids, agg=\"mean\")\n",
    "print(\"Validation AUROC (doc-level):\", val_auc_doc)"
   ]
  },
  {
   "cell_type": "code",
   "execution_count": 17,
   "id": "a8d5e76c",
   "metadata": {},
   "outputs": [
    {
     "name": "stdout",
     "output_type": "stream",
     "text": [
      "Model: \"model_1\"\n",
      "__________________________________________________________________________________________________\n",
      " Layer (type)                   Output Shape         Param #     Connected to                     \n",
      "==================================================================================================\n",
      " input_2 (InputLayer)           [(None, 100, 768)]   0           []                               \n",
      "                                                                                                  \n",
      " masking_1 (Masking)            (None, 100, 768)     0           ['input_2[0][0]']                \n",
      "                                                                                                  \n",
      " conv1d (Conv1D)                (None, 100, 128)     295040      ['masking_1[0][0]']              \n",
      "                                                                                                  \n",
      " conv1d_1 (Conv1D)              (None, 100, 128)     491648      ['masking_1[0][0]']              \n",
      "                                                                                                  \n",
      " conv1d_2 (Conv1D)              (None, 100, 128)     688256      ['masking_1[0][0]']              \n",
      "                                                                                                  \n",
      " global_max_pooling1d (GlobalMa  (None, 128)         0           ['conv1d[0][0]']                 \n",
      " xPooling1D)                                                                                      \n",
      "                                                                                                  \n",
      " global_max_pooling1d_1 (Global  (None, 128)         0           ['conv1d_1[0][0]']               \n",
      " MaxPooling1D)                                                                                    \n",
      "                                                                                                  \n",
      " global_max_pooling1d_2 (Global  (None, 128)         0           ['conv1d_2[0][0]']               \n",
      " MaxPooling1D)                                                                                    \n",
      "                                                                                                  \n",
      " concatenate (Concatenate)      (None, 384)          0           ['global_max_pooling1d[0][0]',   \n",
      "                                                                  'global_max_pooling1d_1[0][0]', \n",
      "                                                                  'global_max_pooling1d_2[0][0]'] \n",
      "                                                                                                  \n",
      " dense_2 (Dense)                (None, 64)           24640       ['concatenate[0][0]']            \n",
      "                                                                                                  \n",
      " dropout_1 (Dropout)            (None, 64)           0           ['dense_2[0][0]']                \n",
      "                                                                                                  \n",
      " dense_3 (Dense)                (None, 1)            65          ['dropout_1[0][0]']              \n",
      "                                                                                                  \n",
      "==================================================================================================\n",
      "Total params: 1,499,649\n",
      "Trainable params: 1,499,649\n",
      "Non-trainable params: 0\n",
      "__________________________________________________________________________________________________\n"
     ]
    }
   ],
   "source": [
    "inp = tf.keras.Input(shape=(100,768))\n",
    "x = tf.keras.layers.Masking(mask_value=0.0)(inp)\n",
    "\n",
    "c3 = tf.keras.layers.Conv1D(128, 3, padding=\"same\", activation=\"relu\")(x)\n",
    "c5 = tf.keras.layers.Conv1D(128, 5, padding=\"same\", activation=\"relu\")(x)\n",
    "c7 = tf.keras.layers.Conv1D(128, 7, padding=\"same\", activation=\"relu\")(x)\n",
    "\n",
    "p = tf.keras.layers.concatenate([\n",
    "    tf.keras.layers.GlobalMaxPool1D()(c3),\n",
    "    tf.keras.layers.GlobalMaxPool1D()(c5),\n",
    "    tf.keras.layers.GlobalMaxPool1D()(c7),\n",
    "])\n",
    "\n",
    "p = tf.keras.layers.Dense(64, activation=\"relu\")(p)\n",
    "p = tf.keras.layers.Dropout(0.3)(p)\n",
    "out = tf.keras.layers.Dense(1, activation=\"sigmoid\", dtype=\"float32\")(p)\n",
    "\n",
    "textcnn_light = tf.keras.Model(inp, out)\n",
    "textcnn_light.compile(\n",
    "    optimizer=tf.keras.optimizers.Adam(1e-3),\n",
    "    loss=\"binary_crossentropy\",\n",
    "    metrics=[tf.keras.metrics.AUC(curve=\"ROC\", name=\"auroc\")]\n",
    ")\n",
    "\n",
    "textcnn_light.summary()"
   ]
  },
  {
   "cell_type": "code",
   "execution_count": 19,
   "id": "fe71b830",
   "metadata": {},
   "outputs": [
    {
     "name": "stdout",
     "output_type": "stream",
     "text": [
      "Epoch 1/5\n",
      "919/919 [==============================] - 108s 117ms/step - loss: 0.4267 - auroc: 0.8878 - val_loss: 0.2870 - val_auroc: 0.9551\n",
      "Epoch 2/5\n",
      "919/919 [==============================] - 134s 146ms/step - loss: 0.2961 - auroc: 0.9465 - val_loss: 0.3015 - val_auroc: 0.9613\n",
      "Epoch 3/5\n",
      "919/919 [==============================] - 117s 128ms/step - loss: 0.2756 - auroc: 0.9541 - val_loss: 0.2707 - val_auroc: 0.9560\n",
      "Epoch 4/5\n",
      "919/919 [==============================] - 109s 118ms/step - loss: 0.2536 - auroc: 0.9609 - val_loss: 0.2864 - val_auroc: 0.9646\n",
      "Epoch 5/5\n",
      "919/919 [==============================] - 111s 121ms/step - loss: 0.2478 - auroc: 0.9628 - val_loss: 0.2740 - val_auroc: 0.9652\n"
     ]
    }
   ],
   "source": [
    "with tf.device(\"/CPU:0\"):\n",
    "    history_cnn = textcnn_light.fit(\n",
    "        X_train, y_train,\n",
    "        validation_split=0.1,\n",
    "        epochs=5,\n",
    "        batch_size=16,\n",
    "        callbacks=[es],\n",
    "        verbose=1\n",
    "    )"
   ]
  },
  {
   "cell_type": "code",
   "execution_count": 20,
   "id": "407c787a",
   "metadata": {},
   "outputs": [
    {
     "ename": "NameError",
     "evalue": "name 'history_cnn' is not defined",
     "output_type": "error",
     "traceback": [
      "\u001b[1;31m---------------------------------------------------------------------------\u001b[0m",
      "\u001b[1;31mNameError\u001b[0m                                 Traceback (most recent call last)",
      "Cell \u001b[1;32mIn[20], line 1\u001b[0m\n\u001b[1;32m----> 1\u001b[0m plt\u001b[38;5;241m.\u001b[39mplot(\u001b[43mhistory_cnn\u001b[49m\u001b[38;5;241m.\u001b[39mhistory[\u001b[38;5;124m\"\u001b[39m\u001b[38;5;124mloss\u001b[39m\u001b[38;5;124m\"\u001b[39m], label\u001b[38;5;241m=\u001b[39m\u001b[38;5;124m\"\u001b[39m\u001b[38;5;124mtrain loss\u001b[39m\u001b[38;5;124m\"\u001b[39m)\n\u001b[0;32m      2\u001b[0m plt\u001b[38;5;241m.\u001b[39mplot(history_cnn\u001b[38;5;241m.\u001b[39mhistory[\u001b[38;5;124m\"\u001b[39m\u001b[38;5;124mval_loss\u001b[39m\u001b[38;5;124m\"\u001b[39m], label\u001b[38;5;241m=\u001b[39m\u001b[38;5;124m\"\u001b[39m\u001b[38;5;124mval loss\u001b[39m\u001b[38;5;124m\"\u001b[39m)\n\u001b[0;32m      3\u001b[0m plt\u001b[38;5;241m.\u001b[39mlegend(); plt\u001b[38;5;241m.\u001b[39mtitle(\u001b[38;5;124m\"\u001b[39m\u001b[38;5;124mLoss Curve\u001b[39m\u001b[38;5;124m\"\u001b[39m); plt\u001b[38;5;241m.\u001b[39mshow()\n",
      "\u001b[1;31mNameError\u001b[0m: name 'history_cnn' is not defined"
     ]
    }
   ],
   "source": [
    "plt.plot(history_cnn.history[\"loss\"], label=\"train loss\")\n",
    "plt.plot(history_cnn.history[\"val_loss\"], label=\"val loss\")\n",
    "plt.legend(); plt.title(\"Loss Curve\"); plt.show()\n",
    "\n",
    "plt.plot(history_cnn.history[\"auroc\"], label=\"train AUROC\")\n",
    "plt.plot(history_cnn.history[\"val_auroc\"], label=\"val AUROC\")\n",
    "plt.legend(); plt.title(\"AUROC Curve\"); plt.show()"
   ]
  },
  {
   "cell_type": "code",
   "execution_count": 27,
   "id": "629877e5",
   "metadata": {},
   "outputs": [
    {
     "name": "stdout",
     "output_type": "stream",
     "text": [
      "7/7 [==============================] - 0s 36ms/step\n"
     ]
    }
   ],
   "source": [
    "y_val_prob_cnn = textcnn_light.predict(X_val).ravel()"
   ]
  },
  {
   "cell_type": "code",
   "execution_count": 36,
   "id": "a41a14e0",
   "metadata": {},
   "outputs": [
    {
     "name": "stdout",
     "output_type": "stream",
     "text": [
      "Validation AUROC: 0.8203965053763441\n"
     ]
    }
   ],
   "source": [
    "val_auc_cnn = roc_auc_score(y_val, y_val_prob_cnn)\n",
    "print(\"Validation AUROC:\", val_auc_cnn)"
   ]
  },
  {
   "cell_type": "code",
   "execution_count": 38,
   "id": "2ed68076",
   "metadata": {},
   "outputs": [
    {
     "name": "stdout",
     "output_type": "stream",
     "text": [
      "              precision    recall  f1-score   support\n",
      "\n",
      "           0      0.683     0.919     0.784       124\n",
      "           1      0.811     0.448     0.577        96\n",
      "\n",
      "    accuracy                          0.714       220\n",
      "   macro avg      0.747     0.684     0.680       220\n",
      "weighted avg      0.739     0.714     0.693       220\n",
      "\n"
     ]
    }
   ],
   "source": [
    "y_val_preb_cnn = (y_val_prob_cnn > 0.5).astype(int)\n",
    "print(classification_report(y_val, y_val_preb_cnn, digits=3))"
   ]
  },
  {
   "cell_type": "code",
   "execution_count": 39,
   "id": "b249d049",
   "metadata": {},
   "outputs": [
    {
     "name": "stdout",
     "output_type": "stream",
     "text": [
      "Validation AUROC (doc-level): 1.0\n"
     ]
    }
   ],
   "source": [
    "val_auc_doc_cnn, doc_probs_cnn, doc_labels_cnn = eval_doc_level(y_val_prob_cnn, y_val, val_ids, agg=\"mean\")\n",
    "print(\"Validation AUROC (doc-level):\", val_auc_doc_cnn)"
   ]
  },
  {
   "cell_type": "code",
   "execution_count": 44,
   "id": "cf026c91",
   "metadata": {},
   "outputs": [
    {
     "name": "stdout",
     "output_type": "stream",
     "text": [
      "53/53 [==============================] - 1s 24ms/step\n",
      "   id      prob\n",
      "0  15  0.085387\n",
      "1  16  0.173377\n",
      "2  17  0.062833\n",
      "3  18  0.337902\n",
      "4  19  0.176672\n"
     ]
    }
   ],
   "source": [
    "y_test_prob_gru = bigru_light.predict(X_test).ravel()\n",
    "df_probs_gru = pd.DataFrame({'id': test_ids, 'prob': y_test_prob_gru})\n",
    "final_probs_gru = df_probs_gru.groupby('id')['prob'].mean().reset_index()\n",
    "print(final_probs_gru.head())"
   ]
  },
  {
   "cell_type": "code",
   "execution_count": 45,
   "id": "61ce132a",
   "metadata": {},
   "outputs": [],
   "source": [
    "final_probs_gru.to_csv(\"final_probs_gru.csv\", index=False)"
   ]
  },
  {
   "cell_type": "code",
   "execution_count": 46,
   "id": "a7a1b859",
   "metadata": {},
   "outputs": [],
   "source": [
    "bigru_light.save(\"bigru_light.keras\")"
   ]
  },
  {
   "cell_type": "code",
   "execution_count": 47,
   "id": "b27b6485",
   "metadata": {},
   "outputs": [
    {
     "name": "stdout",
     "output_type": "stream",
     "text": [
      "53/53 [==============================] - 2s 34ms/step\n",
      "   id      prob\n",
      "0  15  0.063190\n",
      "1  16  0.115649\n",
      "2  17  0.062012\n",
      "3  18  0.444595\n",
      "4  19  0.123344\n"
     ]
    }
   ],
   "source": [
    "y_test_prob_cnn = textcnn_light.predict(X_test).ravel()\n",
    "df_probs_cnn = pd.DataFrame({'id': test_ids, 'prob': y_test_prob_cnn})\n",
    "final_probs_cnn = df_probs_cnn.groupby('id')['prob'].mean().reset_index()\n",
    "print(final_probs_cnn.head())"
   ]
  },
  {
   "cell_type": "code",
   "execution_count": 48,
   "id": "0025fcaf",
   "metadata": {},
   "outputs": [],
   "source": [
    "final_probs_cnn.to_csv(\"final_probs_cnn.csv\", index=False)"
   ]
  },
  {
   "cell_type": "code",
   "execution_count": 49,
   "id": "a7c7fd27",
   "metadata": {},
   "outputs": [],
   "source": [
    "textcnn_light.save(\"textcnn_light.keras\")"
   ]
  }
 ],
 "metadata": {
  "kernelspec": {
   "display_name": "umlta3",
   "language": "python",
   "name": "python3"
  },
  "language_info": {
   "codemirror_mode": {
    "name": "ipython",
    "version": 3
   },
   "file_extension": ".py",
   "mimetype": "text/x-python",
   "name": "python",
   "nbconvert_exporter": "python",
   "pygments_lexer": "ipython3",
   "version": "3.9.23"
  }
 },
 "nbformat": 4,
 "nbformat_minor": 5
}
